{
 "cells": [
  {
   "cell_type": "code",
   "execution_count": 1,
   "metadata": {},
   "outputs": [],
   "source": [
    "import numpy as np\n",
    "import time"
   ]
  },
  {
   "cell_type": "code",
   "execution_count": 10,
   "metadata": {},
   "outputs": [],
   "source": [
    "import matplotlib.pyplot as plt"
   ]
  },
  {
   "cell_type": "code",
   "execution_count": 2,
   "metadata": {},
   "outputs": [],
   "source": [
    "#Author: tzot at https://stackoverflow.com/a/3796442\n",
    "import itertools as it\n",
    "def erat3( ):\n",
    "    D = { 9: 3, 25: 5 }\n",
    "    yield 2\n",
    "    yield 3\n",
    "    yield 5\n",
    "    MASK= 1, 0, 1, 1, 0, 1, 1, 0, 1, 0, 0, 1, 1, 0, 0,\n",
    "    MODULOS= frozenset( (1, 7, 11, 13, 17, 19, 23, 29) )\n",
    "\n",
    "    for q in it.compress(\n",
    "            it.islice(it.count(7), 0, None, 2),\n",
    "            it.cycle(MASK)):\n",
    "        p = D.pop(q, None)\n",
    "        if p is None:\n",
    "            D[q*q] = q\n",
    "            yield q\n",
    "        else:\n",
    "            x = q + 2*p\n",
    "            while x in D or (x%30) not in MODULOS:\n",
    "                x += 2*p\n",
    "            D[x] = p"
   ]
  },
  {
   "cell_type": "code",
   "execution_count": 3,
   "metadata": {},
   "outputs": [],
   "source": [
    "def f(lims):\n",
    "    p_prev_1, p_prev_diff = 2, 0\n",
    "    n=0 # count primes\n",
    "    i=0 #count prime rows\n",
    "    lim = lims.pop()\n",
    "    for p in erat3():\n",
    "        if p-p_prev_1<=p_prev_diff:\n",
    "            i+=1\n",
    "            p_prev_diff = 0\n",
    "            p_prev_1 = p\n",
    "            #print()\n",
    "            if p > lim:\n",
    "                break\n",
    "        n+=1\n",
    "        #print(p, end=' ')\n",
    "        p_prev_diff = p-p_prev_1\n",
    "        p_prev_1 = p\n",
    "    if len(lims) == 0:\n",
    "        return n/i\n",
    "    else: \n",
    "        yield n/i"
   ]
  },
  {
   "cell_type": "code",
   "execution_count": null,
   "metadata": {},
   "outputs": [],
   "source": []
  },
  {
   "cell_type": "code",
   "execution_count": 4,
   "metadata": {},
   "outputs": [],
   "source": [
    "min=2\n",
    "max = 9\n",
    "lims = np.logspace(min,max,3*(max-min)+1).tolist()\n",
    "lims.reverse()"
   ]
  },
  {
   "cell_type": "code",
   "execution_count": 5,
   "metadata": {},
   "outputs": [
    {
     "data": {
      "text/plain": [
       "[1000000000.0,\n",
       " 464158883.3612773,\n",
       " 215443469.00318778,\n",
       " 100000000.0,\n",
       " 46415888.33612773,\n",
       " 21544346.900318824,\n",
       " 10000000.0,\n",
       " 4641588.833612773,\n",
       " 2154434.6900318824,\n",
       " 1000000.0,\n",
       " 464158.8833612772,\n",
       " 215443.46900318822,\n",
       " 100000.0,\n",
       " 46415.888336127726,\n",
       " 21544.346900318822,\n",
       " 10000.0,\n",
       " 4641.588833612777,\n",
       " 2154.4346900318824,\n",
       " 1000.0,\n",
       " 464.15888336127773,\n",
       " 215.44346900318845,\n",
       " 100.0]"
      ]
     },
     "execution_count": 5,
     "metadata": {},
     "output_type": "execute_result"
    }
   ],
   "source": [
    "lims"
   ]
  },
  {
   "cell_type": "code",
   "execution_count": 6,
   "metadata": {},
   "outputs": [],
   "source": [
    "convergence = []"
   ]
  },
  {
   "cell_type": "code",
   "execution_count": 7,
   "metadata": {
    "scrolled": false
   },
   "outputs": [
    {
     "name": "stdout",
     "output_type": "stream",
     "text": [
      "N 100\n",
      "limit 2.5\n",
      "t 0.00023548600000000697\n",
      "N 215\n",
      "limit 2.473684210526316\n",
      "t 0.00012123199999991563\n",
      "N 464\n",
      "limit 2.6285714285714286\n",
      "t 0.0002944930000001733\n",
      "N 1000\n",
      "limit 2.6\n",
      "t 0.0002926919999999278\n",
      "N 2154\n",
      "limit 2.6422764227642275\n",
      "t 0.0006579760000000601\n",
      "N 4641\n",
      "limit 2.706896551724138\n",
      "t 0.001121064000000116\n",
      "N 10000\n",
      "limit 2.6623376623376624\n",
      "t 0.0024291510000000738\n",
      "N 21544\n",
      "limit 2.6455142231947484\n",
      "t 0.00613034400000001\n",
      "N 46415\n",
      "limit 2.6655555555555557\n",
      "t 0.028770485000000123\n",
      "N 100000\n",
      "limit 2.6675006950236306\n",
      "t 0.03171026399999999\n",
      "N 215443\n",
      "limit 2.667221067221067\n",
      "t 0.06128152599999992\n",
      "N 464158\n",
      "limit 2.665887368493433\n",
      "t 0.13068371699999992\n",
      "N 1000000\n",
      "limit 2.662280404259649\n",
      "t 0.2983479849999999\n",
      "N 2154434\n",
      "limit 2.6621062466631074\n",
      "t 0.6495108510000001\n",
      "N 4641588\n",
      "limit 2.664192250653426\n",
      "t 1.5559665999999996\n",
      "N 10000000\n",
      "limit 2.666387154755982\n",
      "t 2.802610565\n",
      "N 21544346\n",
      "limit 2.668117395426091\n",
      "t 6.3820319439999995\n",
      "N 46415888\n",
      "limit 2.670825432060827\n",
      "t 13.007959411999998\n",
      "N 100000000\n",
      "limit 2.673222605112082\n",
      "t 31.641847620000004\n",
      "N 215443469\n",
      "limit 2.6751431605473344\n",
      "t 75.70291225900002\n",
      "N 464158883\n",
      "limit 2.676274042728076\n",
      "t 171.218331144\n",
      "N 1000000000\n",
      "limit 2.6775492070252396\n",
      "t 349.45920467499997\n"
     ]
    }
   ],
   "source": [
    "while len(lims):\n",
    "    print('N', int(lims[-1]))\n",
    "    t = time.process_time()\n",
    "    try:\n",
    "        res=next(f(lims))\n",
    "    except StopIteration as e:\n",
    "        res=e.value\n",
    "        \n",
    "    convergence += [res]\n",
    "    print('limit',res)\n",
    "    print('t', time.process_time() - t)"
   ]
  },
  {
   "cell_type": "code",
   "execution_count": 16,
   "metadata": {},
   "outputs": [],
   "source": [
    "lims = np.logspace(min,max,3*(max-min)+1).tolist()"
   ]
  },
  {
   "cell_type": "code",
   "execution_count": 21,
   "metadata": {
    "scrolled": true
   },
   "outputs": [
    {
     "data": {
      "text/plain": [
       "<matplotlib.collections.LineCollection at 0x7f65b5024d30>"
      ]
     },
     "execution_count": 21,
     "metadata": {},
     "output_type": "execute_result"
    },
    {
     "data": {
      "image/png": "[encoded data removed]",
      "text/plain": [
       "<Figure size 432x288 with 1 Axes>"
      ]
     },
     "metadata": {
      "needs_background": "light"
     },
     "output_type": "display_data"
    }
   ],
   "source": [
    "plt.plot(lims, convergence)\n",
    "plt.hlines(np.e,lims[0],lims[-1],'blue','dashed')"
   ]
  },
  {
   "cell_type": "code",
   "execution_count": 22,
   "metadata": {},
   "outputs": [
    {
     "data": {
      "text/plain": [
       "<matplotlib.collections.LineCollection at 0x7f65b502acc0>"
      ]
     },
     "execution_count": 22,
     "metadata": {},
     "output_type": "execute_result"
    },
    {
     "data": {
      "image/png": "[encoded data removed]",
      "text/plain": [
       "<Figure size 432x288 with 1 Axes>"
      ]
     },
     "metadata": {
      "needs_background": "light"
     },
     "output_type": "display_data"
    }
   ],
   "source": [
    "plt.semilogx(lims, convergence)\n",
    "plt.hlines(np.e,lims[0],lims[-1],'blue','dashed')"
   ]
  },
  {
   "cell_type": "code",
   "execution_count": 8,
   "metadata": {
    "scrolled": true
   },
   "outputs": [
    {
     "data": {
      "text/plain": [
       "[2.5,\n",
       " 2.473684210526316,\n",
       " 2.6285714285714286,\n",
       " 2.6,\n",
       " 2.6422764227642275,\n",
       " 2.706896551724138,\n",
       " 2.6623376623376624,\n",
       " 2.6455142231947484,\n",
       " 2.6655555555555557,\n",
       " 2.6675006950236306,\n",
       " 2.667221067221067,\n",
       " 2.665887368493433,\n",
       " 2.662280404259649,\n",
       " 2.6621062466631074,\n",
       " 2.664192250653426,\n",
       " 2.666387154755982,\n",
       " 2.668117395426091,\n",
       " 2.670825432060827,\n",
       " 2.673222605112082,\n",
       " 2.6751431605473344,\n",
       " 2.676274042728076,\n",
       " 2.6775492070252396]"
      ]
     },
     "execution_count": 8,
     "metadata": {},
     "output_type": "execute_result"
    }
   ],
   "source": [
    "convergence"
   ]
  },
  {
   "cell_type": "code",
   "execution_count": 9,
   "metadata": {},
   "outputs": [
    {
     "data": {
      "text/plain": [
       "[]"
      ]
     },
     "execution_count": 9,
     "metadata": {},
     "output_type": "execute_result"
    }
   ],
   "source": [
    "lims"
   ]
  },
  {
   "cell_type": "code",
   "execution_count": null,
   "metadata": {},
   "outputs": [],
   "source": []
  },
  {
   "cell_type": "code",
   "execution_count": null,
   "metadata": {},
   "outputs": [],
   "source": []
  }
 ],
 "metadata": {
  "kernelspec": {
   "display_name": "Python 3",
   "language": "python",
   "name": "python3"
  },
  "language_info": {
   "codemirror_mode": {
    "name": "ipython",
    "version": 3
   },
   "file_extension": ".py",
   "mimetype": "text/x-python",
   "name": "python",
   "nbconvert_exporter": "python",
   "pygments_lexer": "ipython3",
   "version": "3.7.3"
  }
 },
 "nbformat": 4,
 "nbformat_minor": 2
}
